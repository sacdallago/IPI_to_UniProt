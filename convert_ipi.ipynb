{
 "cells": [
  {
   "cell_type": "code",
   "execution_count": 1,
   "metadata": {},
   "outputs": [],
   "source": [
    "import pandas as pd\n",
    "import numpy as np"
   ]
  },
  {
   "cell_type": "code",
   "execution_count": 2,
   "metadata": {},
   "outputs": [
    {
     "name": "stderr",
     "output_type": "stream",
     "text": [
      "/Users/chdallago/miniconda3/lib/python3.6/site-packages/IPython/core/interactiveshell.py:3020: DtypeWarning: Columns (9) have mixed types. Specify dtype option on import or set low_memory=False.\n",
      "  interactivity=interactivity, compiler=compiler, result=result)\n"
     ]
    }
   ],
   "source": [
    "conversion_file_ARTH = pd.read_csv('./ipi.ARATH.xrefs', sep='\\t', header=None)\n",
    "conversion_file_BOVIN = pd.read_csv('./ipi.BOVIN.xrefs', sep='\\t', header=None)\n",
    "conversion_file_CHICK = pd.read_csv('./ipi.CHICK.xrefs', sep='\\t', header=None)\n",
    "conversion_file_DANRE = pd.read_csv('./ipi.DANRE.xrefs', sep='\\t', header=None)\n",
    "conversion_file_HUMAN = pd.read_csv('./ipi.HUMAN.xrefs', sep='\\t', header=None)\n",
    "conversion_file_MOUSE = pd.read_csv('./ipi.MOUSE.xrefs', sep='\\t', header=None)\n",
    "conversion_file_RAT = pd.read_csv('./ipi.RAT.xrefs', sep='\\t', header=None)"
   ]
  },
  {
   "cell_type": "code",
   "execution_count": 3,
   "metadata": {},
   "outputs": [],
   "source": [
    "conversion_files = pd.concat([\n",
    "    conversion_file_ARTH,\n",
    "    conversion_file_BOVIN,\n",
    "    conversion_file_CHICK,\n",
    "    conversion_file_DANRE,\n",
    "    conversion_file_HUMAN,\n",
    "    conversion_file_MOUSE,\n",
    "    conversion_file_RAT\n",
    "])"
   ]
  },
  {
   "cell_type": "code",
   "execution_count": 4,
   "metadata": {},
   "outputs": [],
   "source": [
    "conversion_files = conversion_files.dropna(0, subset=[1,2])"
   ]
  },
  {
   "cell_type": "code",
   "execution_count": 5,
   "metadata": {},
   "outputs": [],
   "source": [
    "mappings = zip(conversion_files[2].values, conversion_files[1].values, conversion_files[0].values)"
   ]
  },
  {
   "cell_type": "code",
   "execution_count": 6,
   "metadata": {},
   "outputs": [],
   "source": [
    "mapping_dictionary = dict()\n",
    "accepted_mappings = ['SP', 'TP']\n",
    "\n",
    "for mapping in mappings:\n",
    "    if mapping[2] in accepted_mappings:\n",
    "        only_accession = mapping[1].split('-')[0]\n",
    "        mapping_dictionary[mapping[0]] = only_accession"
   ]
  },
  {
   "cell_type": "code",
   "execution_count": 7,
   "metadata": {},
   "outputs": [],
   "source": [
    "mappings = pd.DataFrame.from_dict(mapping_dictionary, orient='index', columns=['uniprot'])"
   ]
  },
  {
   "cell_type": "code",
   "execution_count": 8,
   "metadata": {},
   "outputs": [],
   "source": [
    "mappings.to_csv('ipi_uniprot_mapping.csv', index_label='ipi')"
   ]
  }
 ],
 "metadata": {
  "kernelspec": {
   "display_name": "Python 3",
   "language": "python",
   "name": "python3"
  },
  "language_info": {
   "codemirror_mode": {
    "name": "ipython",
    "version": 3
   },
   "file_extension": ".py",
   "mimetype": "text/x-python",
   "name": "python",
   "nbconvert_exporter": "python",
   "pygments_lexer": "ipython3",
   "version": "3.6.8"
  }
 },
 "nbformat": 4,
 "nbformat_minor": 2
}
